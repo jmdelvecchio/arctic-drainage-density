{
 "cells": [
  {
   "cell_type": "code",
   "execution_count": null,
   "metadata": {},
   "outputs": [],
   "source": [
    "import numpy as np\n",
    "import pandas as pd\n",
    "import geojson\n",
    "import matplotlib.pyplot as plt\n",
    "import matplotlib.colors as colors\n",
    "import seaborn as sns\n",
    "import geopandas as gpd\n",
    "from shapely import geometry, ops\n",
    "import rasterio\n",
    "from rasterio import features\n",
    "import geemap\n",
    "import ee\n",
    "\n",
    "import matplotlib\n",
    "matplotlib.rcParams.update({\"pdf.fonttype\":42})"
   ]
  },
  {
   "cell_type": "code",
   "execution_count": null,
   "metadata": {},
   "outputs": [],
   "source": [
    "arctic = gpd.read_file('../arctic_h90.shp').drop_duplicates(subset='HYBAS_ID', keep=\"first\")\n",
    "midlat = gpd.read_file('../midlat_h90.shp').drop_duplicates(subset='HYBAS_ID', keep=\"first\")\n",
    "\n"
   ]
  },
  {
   "cell_type": "code",
   "execution_count": null,
   "metadata": {},
   "outputs": [],
   "source": [
    "joined = pd.concat([arctic, midlat]).drop_duplicates(subset='HYBAS_ID', keep=\"first\")\n",
    "\n",
    "joined = joined.set_crs(\"EPSG:4326\").to_crs('EPSG:5936')\n",
    "\n",
    "# Dumb, move this\n",
    "\n",
    "joined['DD'] = joined['segment']/joined['flow_acc']\n"
   ]
  },
  {
   "cell_type": "code",
   "execution_count": null,
   "metadata": {},
   "outputs": [],
   "source": [
    "joined['HYBAS_ID'].value_counts().value_counts()"
   ]
  },
  {
   "cell_type": "code",
   "execution_count": null,
   "metadata": {},
   "outputs": [],
   "source": [
    "joined_unfiltered =  joined\n",
    "joined = joined.loc[(joined['bio12_mean'] < 1000) & (joined['ndvi_mean'] > 6000)]"
   ]
  },
  {
   "cell_type": "code",
   "execution_count": null,
   "metadata": {},
   "outputs": [],
   "source": [
    "permaice = gpd.read_file('./shapefiles/permaice.shp')\n",
    "\n",
    "LGM = gpd.read_file('./shapefiles/LGM_best_estimate.shp')\n",
    "MIS6 = gpd.read_file('./shapefiles/MIS6_best_estimate.shp').explode()\n",
    "LGM_dissolve = LGM.dissolve().to_crs('EPSG:5936')\n",
    "MIS6_dissolve = MIS6.dissolve().to_crs('EPSG:5936')\n",
    "LGM_dissolve['in_LGM'] = True\n",
    "MIS6_dissolve['in_MIS6'] = True\n",
    "\n",
    "joined = (\n",
    "    gpd.sjoin(joined, LGM_dissolve[['geometry','in_LGM']], how=\"left\", op=\"within\")\n",
    "    .drop(['index_right'], axis=1)\n",
    "    )\n",
    "joined = (\n",
    "    gpd.sjoin(joined, MIS6_dissolve[['geometry','in_MIS6']], how=\"left\", op=\"within\")\n",
    "    .drop(['index_right'], axis=1)\n",
    ")\n",
    "\n",
    "joined['glaciated'] = 'Not glaciated'\n",
    "\n",
    "joined.loc[joined[\"in_MIS6\"] == True, 'glaciated'] = 'MIS6'\n",
    "joined.loc[joined[\"in_LGM\"] == True, 'glaciated'] = 'LGM'"
   ]
  },
  {
   "cell_type": "code",
   "execution_count": null,
   "metadata": {},
   "outputs": [],
   "source": [
    "joined_pf = (\n",
    "    gpd.sjoin(joined.to_crs('EPSG:5936'),permaice.to_crs('EPSG:5936'))\n",
    "    .drop(['index_right'], axis=1)\n",
    ")\n"
   ]
  },
  {
   "cell_type": "code",
   "execution_count": null,
   "metadata": {},
   "outputs": [],
   "source": [
    "joined_pf['EXTENT'] = joined_pf['EXTENT'].fillna(\"No permafrost\")\n",
    "joined_pf['EXTENT'] = joined_pf['EXTENT'].str.replace('C','Continuous')\n",
    "joined_pf['EXTENT'] = joined_pf['EXTENT'].str.replace('D','Discontinuous')\n",
    "joined_pf['EXTENT'] = joined_pf['EXTENT'].str.replace('I','Isolated')\n",
    "joined_pf['EXTENT'] = joined_pf['EXTENT'].str.replace('S','Sporadic')"
   ]
  },
  {
   "attachments": {},
   "cell_type": "markdown",
   "metadata": {},
   "source": [
    "check that you are not double counting"
   ]
  },
  {
   "cell_type": "code",
   "execution_count": null,
   "metadata": {},
   "outputs": [],
   "source": [
    "joined_pf['HYBAS_ID'].value_counts()"
   ]
  },
  {
   "cell_type": "code",
   "execution_count": null,
   "metadata": {},
   "outputs": [],
   "source": [
    "permafrost = joined_pf.loc[joined_pf['EXTENT'] != 'No permafrost']\n",
    "nonpermafrost = joined_pf.loc[joined_pf['EXTENT'] == 'No permafrost']"
   ]
  },
  {
   "attachments": {},
   "cell_type": "markdown",
   "metadata": {},
   "source": [
    "# Find sheds for flow routing"
   ]
  },
  {
   "attachments": {},
   "cell_type": "markdown",
   "metadata": {},
   "source": [
    "We need to find watersheds where we can get 10 m DEMs so either in the US or >60 degrees latitude for ArcticDEM."
   ]
  },
  {
   "cell_type": "code",
   "execution_count": null,
   "metadata": {},
   "outputs": [],
   "source": [
    "world = gpd.read_file(gpd.datasets.get_path('naturalearth_lowres'))\n",
    "world.head()\n",
    "us = joined_pf.to_crs('epsg:4326').sjoin(world)\n",
    "us = us.loc[us[\"name\"]==\"United States of America\"]"
   ]
  },
  {
   "cell_type": "code",
   "execution_count": null,
   "metadata": {},
   "outputs": [],
   "source": [
    "highlat = joined_pf[joined_pf['lat']>60.0]\n",
    "# .sjoin(world)\n",
    "\n",
    "# # This is to not use alaska bc LSDTT bug with single digit UTM zones\n",
    "# highlat = highlat.loc[highlat[\"name\"]!=\"United States of America\"]"
   ]
  },
  {
   "cell_type": "code",
   "execution_count": null,
   "metadata": {},
   "outputs": [],
   "source": [
    "sheds_10m = pd.concat([us, highlat]).drop_duplicates(subset='HYBAS_ID', keep=\"first\")\n",
    "sheds_10m = sheds_10m[sheds_10m['glaciated']=='Not glaciated']"
   ]
  },
  {
   "cell_type": "code",
   "execution_count": null,
   "metadata": {},
   "outputs": [],
   "source": [
    "sheds_10m['EXTENT'].value_counts()"
   ]
  },
  {
   "cell_type": "code",
   "execution_count": null,
   "metadata": {},
   "outputs": [],
   "source": [
    "def gen_random_sheds(df, pts, map_max, relief_max, n):\n",
    "    map_array=np.append(np.linspace(-1,map_max,num=pts), [np.inf])\n",
    "    relief_array=np.append(np.linspace(-1,relief_max,num=pts), [np.inf])\n",
    "\n",
    "    df['bin_map_2'] = pd.cut(df['bio12_mean'],bins=map_array, labels=np.arange(len(map_array)-1),\n",
    "                                )\n",
    "    df['bin_relief_2'] = pd.cut(df['relief'],bins=relief_array, labels=np.arange(len(relief_array)-1),\n",
    "                                )\n",
    "    coarse_groups_out = df.groupby(['bin_map_2','bin_relief_2'])['DD']\n",
    "\n",
    "    random_sheds = pd.DataFrame()\n",
    "\n",
    "    for i, cut1 in enumerate(map_array[:-1]):\n",
    "        for j, cut2 in enumerate(relief_array[:-1]):\n",
    "            try:\n",
    "                shed = df.loc[(df['bin_map_2'] == i) & (df['bin_relief_2'] == j)].sample(\n",
    "                    n=n,\n",
    "                    random_state=1\n",
    "                )\n",
    "            except ValueError:\n",
    "                shed = pd.DataFrame({'bin_map_2': [i],\n",
    "                                     'bin_relief_2': [j]\n",
    "                                     })\n",
    "            # random_sheds = random_sheds.append(shed)\n",
    "            random_sheds = pd.concat([random_sheds,shed])\n",
    "\n",
    "    return random_sheds\n"
   ]
  },
  {
   "cell_type": "code",
   "execution_count": null,
   "metadata": {},
   "outputs": [],
   "source": [
    "# random_ex = gen_random_sheds(sheds_10m[(sheds_10m['EXTENT']==\"Continuous\") | (sheds_10m['EXTENT']==\"Discontinuous\")], 5, 600, 1000, 16)\n",
    "\n",
    "# random_pa = gen_random_sheds(sheds_10m[(sheds_10m['EXTENT']==\"Isolated\") | (sheds_10m['EXTENT']==\"Sporadic\")], 5, 600, 1000, 16)\n",
    "\n",
    "random_cont = gen_random_sheds(sheds_10m[sheds_10m['EXTENT']==\"Continuous\"], 5, 600, 1000, 45)\n",
    "random_np = gen_random_sheds(sheds_10m[sheds_10m['EXTENT']==\"No permafrost\"], 5, 600, 1000, 36)"
   ]
  },
  {
   "cell_type": "code",
   "execution_count": null,
   "metadata": {},
   "outputs": [],
   "source": [
    "shed_list = pd.concat([random_cont.drop(index=0), random_np.drop(index=0)]).filter(['HYBAS_ID', 'DD', 'EXTENT'])"
   ]
  },
  {
   "cell_type": "code",
   "execution_count": null,
   "metadata": {},
   "outputs": [],
   "source": [
    "shed_list.dropna().drop_duplicates(subset='HYBAS_ID', keep=\"first\").to_csv(\"shed_list_for_dd_new.csv\", index=False)"
   ]
  },
  {
   "attachments": {},
   "cell_type": "markdown",
   "metadata": {},
   "source": [
    "# Plots"
   ]
  },
  {
   "cell_type": "code",
   "execution_count": null,
   "metadata": {},
   "outputs": [],
   "source": [
    "pts=20\n",
    "map_max=800\n",
    "relief_max=1200\n",
    "map_array=np.append(np.linspace(-1,map_max,num=pts), [np.inf])\n",
    "relief_array=np.append(np.linspace(-1,relief_max,num=pts), [np.inf])\n",
    "\n",
    "nonpermafrost['bin_map'] = pd.cut(nonpermafrost['bio12_mean'],bins=map_array, labels=np.arange(len(map_array)-1))\n",
    "nonpermafrost['bin_relief'] = pd.cut(nonpermafrost['relief'],bins=relief_array, labels=np.arange(len(relief_array)-1))\n",
    "nonpermafrost_out = nonpermafrost.groupby(['bin_map','bin_relief'])['DD']\n",
    "\n",
    "nonpermafrost_counts = nonpermafrost_out.count().sort_index().values.reshape(len(relief_array)-1,len(map_array)-1)\n",
    "\n",
    "nonpermafrost_arr = nonpermafrost_out.mean().sort_index().values.reshape(len(relief_array)-1,len(map_array)-1)\n",
    "\n",
    "permafrost['bin_map'] = pd.cut(permafrost['bio12_mean'],bins=map_array, labels=np.arange(len(map_array)-1),\n",
    "                             )\n",
    "permafrost['bin_relief'] = pd.cut(permafrost['relief'],bins=relief_array, labels=np.arange(len(relief_array)-1),\n",
    "                              )\n",
    "permafrost_out = permafrost.groupby(['bin_map','bin_relief'])['DD']\n",
    "\n",
    "permafrost_counts = permafrost_out.count().sort_index().values.reshape(len(relief_array)-1,len(map_array)-1)\n",
    "\n",
    "permafrost_arr = permafrost_out.mean().sort_index().values.reshape(len(relief_array)-1,len(map_array)-1)"
   ]
  },
  {
   "cell_type": "code",
   "execution_count": null,
   "metadata": {},
   "outputs": [],
   "source": [
    "import scipy\n",
    "import itertools\n",
    "p = np.empty([pts,pts])\n",
    "p[:] = np.nan\n",
    "for i in itertools.product(range(pts),range(pts)):\n",
    "    try:\n",
    "        U1, p[i] = scipy.stats.mannwhitneyu(\n",
    "        permafrost_out.get_group(i),\n",
    "        nonpermafrost_out.get_group(i))\n",
    "    except KeyError:\n",
    "        pass"
   ]
  },
  {
   "cell_type": "code",
   "execution_count": null,
   "metadata": {},
   "outputs": [],
   "source": [
    "shed_count_thresh = 10\n",
    "\n",
    "pm1 = np.ma.masked_less(p, 1.00e-04)\n",
    "pm1_masked = np.ma.masked_where(permafrost_counts < shed_count_thresh, pm1)\n",
    "pm1_masked = np.ma.masked_where(nonpermafrost_counts < shed_count_thresh, pm1_masked)\n",
    "\n",
    "\n",
    "pm2 = np.ma.masked_inside(p, 1.00e-04, 1.00e-03)\n",
    "pm2_masked = np.ma.masked_where(permafrost_counts < shed_count_thresh, pm2)\n",
    "pm2_masked = np.ma.masked_where(nonpermafrost_counts < shed_count_thresh, pm2_masked)\n",
    "\n",
    "ratio = permafrost_arr/nonpermafrost_arr\n",
    "ratio_masked = np.ma.masked_where(permafrost_counts < shed_count_thresh, ratio)\n",
    "ratio_masked = np.ma.masked_where(nonpermafrost_counts < shed_count_thresh, ratio_masked)"
   ]
  },
  {
   "cell_type": "code",
   "execution_count": null,
   "metadata": {},
   "outputs": [],
   "source": [
    "fig, ax = plt.subplots(figsize=(3.4252,3.4252),dpi=300)\n",
    "\n",
    "im0 = ax.pcolor(ratio_masked, cmap='PRGn', \n",
    "               #extent=[np.min(relief_array), np.max(relief_array), np.min(map_array), np.max(map_array)],\n",
    "                vmin=0.5, vmax=1.5,\n",
    "                   )\n",
    "\n",
    "im1 = ax.pcolor(pm1_masked, hatch='///',alpha=0)\n",
    "\n",
    "#im2 = ax.pcolor(pm2_masked, hatch='//',alpha=0)\n",
    "\n",
    "\n",
    "cb1 = fig.colorbar(im0)\n",
    "#ax.axvline(250)\n",
    "\n",
    "\n",
    "ax.set_xticks([0,5,10,15,19])\n",
    "ax.set_xticklabels(['0',np.round(relief_array[5],0),np.round(relief_array[10],0),np.round(relief_array[15],0),'>'+str(relief_max)])\n",
    "\n",
    "ax.set_yticks([0,5,10,15,19])\n",
    "ax.set_yticklabels(['0',np.round(map_array[5],0),np.round(map_array[10],0),np.round(map_array[15],0),'>'+str(map_max)])\n",
    "\n",
    "\n",
    "ax.set_xlabel(\"Relief (m)\")\n",
    "ax.set_ylabel(\"MAP (mm)\")\n",
    "plt.annotate('hatch = $p$>0.0001', (3.4252,1))\n",
    "#fig.suptitle(\"Ratio of drainage density of NH pf:nonpf soil-mantled headwater basins\")\n",
    "# plt.savefig(\"./figure_outputs/main_heatmap.png\", bbox_inches=\"tight\")"
   ]
  },
  {
   "cell_type": "code",
   "execution_count": null,
   "metadata": {},
   "outputs": [],
   "source": [
    "simplified_dict = {\n",
    "    'Sporadic':'Patchy',\n",
    "    'Isolated':'Patchy', \n",
    "    'Discontinuous':'Extensive',\n",
    "    'Continuous':'Extensive',\n",
    "    'No permafrost':'No permafrost'\n",
    "}\n",
    "\n",
    "joined_pf['simple'] = joined_pf['EXTENT'].map(simplified_dict)"
   ]
  },
  {
   "cell_type": "code",
   "execution_count": null,
   "metadata": {},
   "outputs": [],
   "source": [
    "from statannotations.Annotator import Annotator\n",
    "\n",
    "x=\"simple\"\n",
    "y=\"DD\"\n",
    "hue=\"glaciated\"\n",
    "hue_order = [\"MIS6\",\"LGM\",\"Not glaciated\"]\n",
    "order = ['Extensive','Patchy','No permafrost']\n",
    "#pairs = [list(zip(hue_order, p)) for p in itertools.permutations(order)]\n",
    "pairs=[\n",
    "    # ((\"Extensive\", \"MIS6\"), (\"Patchy\", \"MIS6\")),\n",
    "    # ((\"Extensive\", \"MIS6\"), (\"No permafrost\", \"MIS6\")),\n",
    "    # ((\"Patchy\", \"MIS6\"), (\"No permafrost\", \"MIS6\")),\n",
    "    # ((\"Extensive\", \"Not glaciated\"), (\"Patchy\", \"Not glaciated\")),\n",
    "    # ((\"Extensive\", \"Not glaciated\"), (\"No permafrost\", \"Not glaciated\")),\n",
    "    # ((\"Patchy\", \"Not glaciated\"), (\"No permafrost\", \"Not glaciated\")),\n",
    "    ]\n",
    "\n",
    "# filtered_data = joined_pf.loc[(joined_pf['bio12_mean'] < 700) & (joined_pf['ndvi_mean'] > 6000)]\n",
    "filtered_data = joined_pf.loc[joined_pf['ndvi_mean'] > 6000]\n",
    "\n",
    "fig, ax = plt.subplots(figsize=(3.4252,3.4252),dpi=300)\n",
    "plot1 = sns.boxplot(data=filtered_data, x=x, y=y, order=order, hue=hue, hue_order=hue_order,\n",
    "                 showfliers = False,\n",
    "                palette=[\"#0081a7\", \"#00afb9\", \"#fed9b7\"],\n",
    "                ax=ax)\n",
    "\n",
    "# for tick,label in zip(pos,ax.get_xticklabels()):\n",
    "#     ax.text(pos[tick],\n",
    "#             medians[tick],\n",
    "#             nobs[tick],\n",
    "#             horizontalalignment='center',\n",
    "#             size='x-small',\n",
    "#             color='k',\n",
    "#             weight='semibold')\n",
    "\n",
    "# annot = Annotator(plot1, pairs, data=filtered_data, x=x, y=y, order=order, hue=hue, hue_order=hue_order,\n",
    "#                   showfliers = False,\n",
    "#                  palette=[\"#0081a7\", \"#00afb9\", \"#fed9b7\"],\n",
    "#                  #ax=ax\n",
    "#                  )\n",
    "# annot.configure(test='Mann-Whitney', verbose=2)\n",
    "# annot.apply_test()\n",
    "# annot.annotate()\n",
    "ax.set_ylabel(\"Drainage density\")\n",
    "ax.set_xlabel(\"Permafrost extent\")\n",
    "plt.legend(loc=\"upper left\", ncol=3, fontsize=6.5)\n",
    "plt.savefig(\"./figure_outputs/main_boxplots.png\", bbox_inches=\"tight\")"
   ]
  },
  {
   "cell_type": "code",
   "execution_count": null,
   "metadata": {},
   "outputs": [],
   "source": [
    "from statannotations.Annotator import Annotator\n",
    "\n",
    "x=\"EXTENT\"\n",
    "y=\"DD\"\n",
    "hue=\"glaciated\"\n",
    "hue_order = [\"MIS6\",\"LGM\",\"Not glaciated\"]\n",
    "order = ['Continuous','Discontinuous','Isolated','Sporadic','No permafrost']\n",
    "#pairs = [list(zip(hue_order, p)) for p in itertools.permutations(order)]\n",
    "pairs=[\n",
    "    ((\"Continuous\", \"Not glaciated\"), (\"Discontinuous\", \"Not glaciated\")),\n",
    "    ((\"Continuous\", \"Not glaciated\"), (\"Isolated\", \"Not glaciated\")),\n",
    "    ((\"Continuous\", \"Not glaciated\"), (\"No permafrost\", \"Not glaciated\")),\n",
    "    ((\"Discontinuous\", \"Not glaciated\"), (\"No permafrost\", \"Not glaciated\")),\n",
    "    ((\"Isolated\", \"Not glaciated\"), (\"No permafrost\", \"Not glaciated\")),\n",
    "    ((\"Sporadic\", \"Not glaciated\"), (\"No permafrost\", \"Not glaciated\")),\n",
    "    ((\"Discontinuous\", \"Not glaciated\"), (\"Sporadic\", \"Not glaciated\")),\n",
    "    # ((\"Continuous\", \"Not glaciated\"), (\"Continuous\", \"LGM\")),\n",
    "    # ((\"Continuous\", \"Not glaciated\"), (\"Continuous\", \"MIS6\")),\n",
    "    # ((\"No permafrost\", \"Not glaciated\"), (\"No permafrost\", \"LGM\")),\n",
    "    # ((\"No permafrost\", \"Not glaciated\"), (\"No permafrost\", \"MIS6\")),\n",
    "    ]\n",
    "\n",
    "# filtered_data = joined_pf.loc[(joined_pf['bio12_mean'] < 700) & (joined_pf['ndvi_mean'] > 6000)]\n",
    "\n",
    "filtered_data = joined_pf.loc[joined_pf['ndvi_mean'] > 6000]\n",
    "\n",
    "fig, ax = plt.subplots(figsize=(6,3.4252),dpi=300)\n",
    "plot1 = sns.boxplot(data=filtered_data, x=x, y=y, order=order, hue=hue, hue_order=hue_order,\n",
    "                 showfliers = False,\n",
    "                palette=[\"#0081a7\", \"#00afb9\", \"#fed9b7\"],\n",
    "                ax=ax)\n",
    "annot = Annotator(plot1, pairs, data=filtered_data, x=x, y=y, order=order, hue=hue, hue_order=hue_order,\n",
    "                  showfliers = False,\n",
    "                 palette=[\"#0081a7\", \"#00afb9\", \"#fed9b7\"],\n",
    "                 #ax=ax\n",
    "                 )\n",
    "\n",
    "annot.configure(test='Mann-Whitney', verbose=2)\n",
    "annot.apply_test()\n",
    "annot.annotate()\n",
    "ax.tick_params(axis='x', rotation=45)\n",
    "ax.set_ylabel(\"Drainage density\")\n",
    "plt.savefig('./figure_outputs/supp_pf_cat_expanded.png', bbox_inches=\"tight\")"
   ]
  },
  {
   "attachments": {},
   "cell_type": "markdown",
   "metadata": {},
   "source": [
    "# Regression"
   ]
  },
  {
   "cell_type": "code",
   "execution_count": null,
   "metadata": {},
   "outputs": [],
   "source": [
    "permafrost['MAT_C'] = permafrost['bio01_mean']\n",
    "nonpermafrost['MAT_C'] = nonpermafrost['bio01_mean']"
   ]
  },
  {
   "cell_type": "code",
   "execution_count": null,
   "metadata": {},
   "outputs": [],
   "source": [
    "# Just use non glaciated \n",
    "# Memory be damned\n",
    "\n",
    "permafrost_ng= permafrost.loc[permafrost['glaciated'] == 'Not glaciated']\n",
    "nonpermafrost_ng= nonpermafrost.loc[nonpermafrost['glaciated'] == 'Not glaciated']\n",
    "\n",
    "\n",
    "#  \n",
    "\n",
    "permafrost_ng = permafrost_ng.loc[permafrost_ng['MAT_C'] < 2.5]\n",
    "nonpermafrost_ng = nonpermafrost_ng.loc[nonpermafrost_ng['MAT_C'] > -2.5]\n"
   ]
  },
  {
   "cell_type": "code",
   "execution_count": null,
   "metadata": {},
   "outputs": [],
   "source": [
    "import matplotlib as mpl\n",
    "\n",
    "new_blues = mpl.cm.Blues(np.linspace(0,1,20))\n",
    "new_blues = mpl.colors.ListedColormap(new_blues[5:,:-1])\n",
    "\n",
    "new_reds = mpl.cm.Reds(np.linspace(0,1,20))\n",
    "new_reds = mpl.colors.ListedColormap(new_reds[5:,:-1])"
   ]
  },
  {
   "cell_type": "code",
   "execution_count": null,
   "metadata": {},
   "outputs": [],
   "source": [
    "fig, ax = plt.subplots(\n",
    "    # 1,2,\n",
    "    # sharey=True,sharex=True,\n",
    "     # figsize=(6,2),\n",
    "    figsize=(3.4252,1.7),\n",
    "                       dpi=300\n",
    "                       )\n",
    "ax.set_ylim((0.075,0.25))\n",
    "# im0 = ax.hexbin(x=permafrost_ng['MAT_C'],\n",
    "#                   y=permafrost_ng['DD'],\n",
    "#                   mincnt=1,\n",
    "#                   gridsize=(20,20),\n",
    "#                  cmap=new_blues,\n",
    "#                  )\n",
    "im0=sns.kdeplot(\n",
    "    data = permafrost_ng.drop(['level_0'], axis=1).reset_index(),\n",
    "    x='MAT_C',\n",
    "                  y='DD',\n",
    "                  levels=7, \n",
    "                  linewidths=1,\n",
    "                  color=mpl.cm.Blues(np.linspace(0,1,20))[-10],\n",
    "                  ax=ax)\n",
    "\n",
    "# im1 = sns.regplot(coolsheds['MAT_C'],\n",
    "#                   coolsheds['DD'],\n",
    "#                   scatter_kws={'alpha':0.05},\n",
    "#                  ax=ax,\n",
    "#                  ci=99,\n",
    "#                  fit_reg=False,\n",
    "#                  n_boot=1000,\n",
    "#                   color='g'\n",
    "#                  #robust=True,\n",
    "#                  )\n",
    "# im0 = ax.hexbin(x=nonpermafrost_ng['MAT_C'],\n",
    "#                   y=nonpermafrost_ng['DD'],\n",
    "#                   mincnt=1,\n",
    "#                   gridsize=(26,20),\n",
    "#                  cmap=new_reds,\n",
    "#                  )\n",
    "im0=sns.kdeplot(\n",
    "    data = nonpermafrost_ng.drop(['level_0'], axis=1).reset_index(),\n",
    "    x='MAT_C',\n",
    "                  y='DD',\n",
    "                  levels=7,\n",
    "                  linewidths=1,\n",
    "                  color=mpl.cm.Reds(np.linspace(0,1,20))[-10],\n",
    "                  ax=ax)\n",
    "im1 = sns.regplot(x=nonpermafrost_ng['MAT_C'],\n",
    "                  y=nonpermafrost_ng['DD'],\n",
    "                  scatter_kws={'alpha':0.00,\n",
    "                              's':5},\n",
    "                 line_kws={'color':'darkred',\n",
    "                 'linewidth':1},\n",
    "                 ax=ax,\n",
    "                 ci=99,\n",
    "                 fit_reg=True,\n",
    "                 n_boot=1000,\n",
    "                  color=mpl.cm.Reds(np.linspace(0,1,20))[-1],\n",
    "                 #robust=True,\n",
    "                 )\n",
    "im05 = sns.regplot(x=permafrost_ng['MAT_C'],\n",
    "                  y=permafrost_ng['DD'],\n",
    "                  scatter_kws={'alpha':0.00,\n",
    "                              's':5},\n",
    "                  line_kws={'color':mpl.cm.Blues(np.linspace(0,1,20))[-1],\n",
    "                  'linewidth':1},\n",
    "                 ax=ax,\n",
    "                 ci=99,\n",
    "                 fit_reg=True,\n",
    "                 n_boot=1000,\n",
    "                  color='b',\n",
    "                 #robust=True,\n",
    "                 )\n",
    "\n",
    "ax.set_ylabel(\"Drainage density\\n(stream pix/total pix)\")\n",
    "ax.set_xlabel(\"Mean annual temperature (C)\")\n",
    "plt.savefig(\"./figure_outputs/main_mat_dd.pdf\", bbox_inches=\"tight\")\n"
   ]
  },
  {
   "cell_type": "code",
   "execution_count": null,
   "metadata": {},
   "outputs": [],
   "source": [
    "fig, ax = plt.subplots(figsize=(3.4252,1.7),\n",
    "                       dpi=300)\n",
    "im0 = sns.regplot(x=permafrost_ng['MAT_C'],\n",
    "                  y=permafrost_ng['bio12_mean'],\n",
    "                  scatter_kws={'alpha':0.01,\n",
    "                              's':5},\n",
    "                  line_kws={'color':'darkblue'},\n",
    "                 ax=ax,\n",
    "                 ci=99,\n",
    "                 fit_reg=True,\n",
    "                 n_boot=1000,\n",
    "                  color='b'\n",
    "                 #robust=True,\n",
    "                 )\n",
    "\n",
    "im1 = sns.regplot(x=nonpermafrost_ng['MAT_C'],\n",
    "                  y=nonpermafrost_ng['bio12_mean'],\n",
    "                  scatter_kws={'alpha':0.01,\n",
    "                              's':5},\n",
    "                 line_kws={'color':'darkred'},\n",
    "                 ax=ax,\n",
    "                 ci=99,\n",
    "                 fit_reg=True,\n",
    "                 n_boot=1000,\n",
    "                  color='r'\n",
    "                 #robust=True,\n",
    "                 )\n",
    "# ax.set_ylim((0.06,0.2))\n",
    "ax.set_ylabel(\"Mean annual\\nprecipitation (mm/yr)\")\n",
    "ax.set_xlabel(\"Mean annual\\ntemperature (deg C)\")\n",
    "\n",
    "plt.savefig(\"./figure_outputs/supp_mat_map_regress.png\", bbox_inches=\"tight\")"
   ]
  },
  {
   "cell_type": "code",
   "execution_count": null,
   "metadata": {},
   "outputs": [],
   "source": [
    "import statsmodels.api as sm\n",
    "\n",
    "X = permafrost_ng['MAT_C']  # independent variable\n",
    "y = permafrost_ng['bio12_mean']  # dependent variable\n",
    "\n",
    "# # to get intercept -- this is optional\n",
    "# X = sm.add_constant(X)\n",
    "\n",
    "# fit the regression model\n",
    "reg = sm.OLS(y, X).fit()\n",
    "\n",
    "permafrost_ng['residual_MAP'] = reg.resid\n",
    "\n",
    "# Some nonpermafrost watersheds didn't have data, so we drop them\n",
    "\n",
    "X = nonpermafrost_ng['MAT_C'].dropna()  # independent variable\n",
    "y = nonpermafrost_ng['bio12_mean'].dropna()   # dependent variable\n",
    "\n",
    "# # to get intercept -- this is optional\n",
    "# X = sm.add_constant(X)\n",
    "\n",
    "# fit the regression model\n",
    "reg = sm.OLS(y, X).fit()\n",
    "\n",
    "#nonpermafrost_ng['residual_MAP'] = nonpermafrost_ng.index.to_series().map(reg.resid)\n",
    "# And now just add residuals to where we had data\n",
    "nonpermafrost_ng['residual_MAP'] = pd.Series(\n",
    "    nonpermafrost_ng.index,\n",
    "     index=nonpermafrost_ng.index).map(reg.resid.to_dict())\n"
   ]
  },
  {
   "cell_type": "code",
   "execution_count": null,
   "metadata": {},
   "outputs": [],
   "source": [
    "fig, ax = plt.subplots(1,2,\n",
    "                       figsize=(3.4252,1.7),\n",
    "                      #  figsize=(6,2),\n",
    "                       sharey=True,\n",
    "                       sharex=True,\n",
    "                       dpi=300)\n",
    "im0=sns.kdeplot(\n",
    "    data = permafrost_ng.drop(['level_0'], axis=1).reset_index(),\n",
    "    x='residual_MAP',\n",
    "                  y='DD',\n",
    "                  levels=7, \n",
    "                  # linewidths=1,\n",
    "                 # palette=new_reds,\n",
    "                  color=mpl.cm.Blues(np.linspace(0,1,20))[-10],\n",
    "                  fill=True,\n",
    "                  ax=ax[0])\n",
    "# im0 = sns.regplot(x='residual_MAP', y='DD',  fit_reg=True,\n",
    "#                   scatter_kws={'alpha':0.00,\n",
    "#                               's':5},\n",
    "#                   ax=ax[0], data=permafrost_ng,\n",
    "#                                     line_kws={'color':'darkblue'},\n",
    "#                  color='b')\n",
    "\n",
    "# im1 = sns.regplot(x='residual_MAP', y='DD',  fit_reg=True,\n",
    "#                   scatter_kws={'alpha':0.00,\n",
    "#                               's':5},\n",
    "#                   ax=ax[1], data=nonpermafrost_ng, color='r',\n",
    "#                                   line_kws={'color':'darkred'})\n",
    "im1=sns.kdeplot(\n",
    "    data = nonpermafrost_ng.drop(['level_0'], axis=1).reset_index(),\n",
    "    x='residual_MAP',\n",
    "                  y='DD',\n",
    "                  levels=7, \n",
    "                  # linewidths=1,\n",
    "                  # palette=new_reds,\n",
    "                  color=mpl.cm.Reds(np.linspace(0,1,20))[-10],\n",
    "                  fill=True,\n",
    "                  ax=ax[1])\n",
    "ax[0].set_ylim((0.075, 0.225))\n",
    "ax[0].set_xlim((-1000, 1000))\n",
    "ax[0].set_ylabel(\"Drainage denisty\\n(pix/pix)\")\n",
    "\n",
    "ax[0].set_xlabel(\"MAP, residual\\n(mm/yr)\")\n",
    "ax[1].set_xlabel(\"MAP, residual\\n(mm/yr)\")\n",
    "\n",
    "\n",
    "fig.tight_layout()\n",
    "\n",
    "plt.savefig(\"./figure_outputs/main_resids.pdf\", bbox_inches=\"tight\")"
   ]
  },
  {
   "attachments": {},
   "cell_type": "markdown",
   "metadata": {},
   "source": [
    "# Supplemental"
   ]
  },
  {
   "attachments": {},
   "cell_type": "markdown",
   "metadata": {},
   "source": [
    "## Data maps"
   ]
  },
  {
   "cell_type": "code",
   "execution_count": null,
   "metadata": {},
   "outputs": [],
   "source": [
    "fig, ax = plt.subplots(dpi=300)\n",
    "world = gpd.read_file(gpd.datasets.get_path('naturalearth_lowres'))\n",
    "ax = world.plot(\n",
    "    color='white', edgecolor='black', ax=ax)\n",
    "\n",
    "# We can now plot our ``GeoDataFrame``.\n",
    "joined_pf.to_crs('EPSG:4326').plot(ax=ax, column=\"EXTENT\", markersize=0.25,legend=True, legend_kwds={'loc': 'lower left', 'fontsize':6})\n",
    "ax.set_ylabel(\"Latitude (deg)\")\n",
    "ax.set_xlabel(\"Longtiude (deg)\")\n",
    "ax.set_ylim((25,80))\n",
    "plt.savefig('./figure_outputs/supp_extent_map.png')"
   ]
  },
  {
   "cell_type": "code",
   "execution_count": null,
   "metadata": {},
   "outputs": [],
   "source": [
    "fig, ax = plt.subplots(dpi=300)\n",
    "world = gpd.read_file(gpd.datasets.get_path('naturalearth_lowres'))\n",
    "ax = world.plot(\n",
    "    color='white', edgecolor='black', ax=ax)\n",
    "\n",
    "# We can now plot our ``GeoDataFrame``.\n",
    "joined_pf.to_crs('EPSG:4326').plot(ax=ax, column=\"glaciated\", markersize=0.25,legend=True, legend_kwds={'loc': 'lower left', 'fontsize':6})\n",
    "ax.set_ylim((25,80))\n",
    "ax.set_ylabel(\"Latitude (deg)\")\n",
    "ax.set_xlabel(\"Longtiude (deg)\")\n",
    "ax.set_ylim((25,80))\n",
    "# plt.savefig('./figure_outputs/supp_glacial_map.png')"
   ]
  },
  {
   "cell_type": "code",
   "execution_count": null,
   "metadata": {},
   "outputs": [],
   "source": [
    "# Geopandas has not coded hexbins legends\n",
    "\n",
    "# fig, ax = plt.subplots(dpi=300)\n",
    "# world = gpd.read_file(gpd.datasets.get_path('naturalearth_lowres'))\n",
    "# ax = world.plot(\n",
    "#     color='white', edgecolor='black', ax=ax)\n",
    "\n",
    "# # We can now plot our ``GeoDataFrame``.\n",
    "# im = joined_pf.to_crs('EPSG:4326').plot.hexbin(x='long',\n",
    "#                                     y='lat',\n",
    "#                                     C='DD',\n",
    "#                                    legend=False,\n",
    "#                                    vmin=0.1,\n",
    "#                                    vmax=0.20,\n",
    "#                                         # legend_kwds={\n",
    "#                                         # # \"location\":\"left\",\n",
    "#                                         # \"shrink\":.25,\n",
    "#                                         # 'label':'Drainage density\\n(pix/pix)'\n",
    "#                                         #     },\n",
    "#                                             ax=ax,\n",
    "#                                             )\n",
    "\n",
    "\n",
    "# ax.set_ylim((25,80))\n",
    "# ax.set_ylabel(\"Latitude (deg)\")\n",
    "# ax.set_xlabel(\"Longtiude (deg)\")\n",
    "# ax.set_ylim((25,80))\n",
    "# # plt.savefig('./figure_outputs/supp_DD_hex_map.png')"
   ]
  },
  {
   "cell_type": "code",
   "execution_count": null,
   "metadata": {},
   "outputs": [],
   "source": [
    "fig, ax = plt.subplots(dpi=300)\n",
    "world = gpd.read_file(gpd.datasets.get_path('naturalearth_lowres'))\n",
    "ax = world.plot(\n",
    "    color='white', edgecolor='black', ax=ax)\n",
    "\n",
    "# We can now plot our ``GeoDataFrame``.\n",
    "joined_pf.to_crs('EPSG:4326').plot(ax=ax, column=\"DD\", markersize=0.25,legend=True,\n",
    "                                   vmin=0.1,\n",
    "                                   vmax=0.20,\n",
    "                                        legend_kwds={\n",
    "                                        \"location\":\"left\",\n",
    "                                        \"shrink\":.25,\n",
    "                                        'label':'Drainage density\\n(pix/pix)'\n",
    "                                            },\n",
    "                                            )\n",
    "ax.set_ylim((25,80))\n",
    "ax.set_ylabel(\"Latitude (deg)\")\n",
    "ax.set_xlabel(\"Longtiude (deg)\")\n",
    "ax.set_ylim((25,80))\n",
    "plt.savefig('./figure_outputs/supp_DD_map.png')"
   ]
  },
  {
   "attachments": {},
   "cell_type": "markdown",
   "metadata": {},
   "source": [
    "## Data stats"
   ]
  },
  {
   "cell_type": "code",
   "execution_count": null,
   "metadata": {},
   "outputs": [],
   "source": [
    "joined_pf.groupby(['EXTENT', 'glaciated']).size()\n",
    "# joined_pf['EXTENT'].value_counts()"
   ]
  },
  {
   "cell_type": "code",
   "execution_count": null,
   "metadata": {},
   "outputs": [],
   "source": [
    "joined_pf['EXTENT'].value_counts()"
   ]
  },
  {
   "cell_type": "code",
   "execution_count": null,
   "metadata": {},
   "outputs": [],
   "source": [
    "joined_pf['glaciated'].value_counts()"
   ]
  },
  {
   "cell_type": "code",
   "execution_count": null,
   "metadata": {},
   "outputs": [],
   "source": [
    "fig, ax = plt.subplots()\n",
    "sns.histplot(data=joined_pf, y='lat', x='EXTENT',\n",
    "            #  hue='glaciated',\n",
    "             bins=50,\n",
    "            #  thresh=10,\n",
    "             cbar=True,\n",
    "             cbar_kws={\"label\":\"Watershed counts\"},\n",
    "             ax=ax)\n",
    "# sns.violinplot(data=joined_pf, x='lat', y='EXTENT', \n",
    "#              order=['No permafrost', 'Isolated', 'Sporadic','Discontinuous', 'Continuous'],\n",
    "#              inner=None,            \n",
    "#              )\n",
    "ax.tick_params(axis='x', rotation=45)\n",
    "ax.set_ylabel(\"Latitude (degrees)\")\n",
    "ax.set_xlabel(\"Permafrost extent\")\n",
    "fig.tight_layout()\n",
    "plt.savefig('./figure_outputs/supp_lat_cat.png')"
   ]
  },
  {
   "attachments": {},
   "cell_type": "markdown",
   "metadata": {},
   "source": [
    "## dumb stuff"
   ]
  },
  {
   "attachments": {},
   "cell_type": "markdown",
   "metadata": {},
   "source": [
    "Sangireddy et al 2016 has a discussion on relief and DD and whether the relationship would be positive or negative depending on if you were in creep or landslide dominated stuff at higher reliefs: \"Geomorphic transport laws used in landscape evolution models predict a power-law relationship between Dd and R (D / R\u0002n) such that the correlation between the variables is positive in creep dominated landscapes and negative in landslide prone ones (Tucker and Bras, 1998)\""
   ]
  },
  {
   "cell_type": "code",
   "execution_count": null,
   "metadata": {},
   "outputs": [],
   "source": [
    "fig, ax = plt.subplots(1,2, figsize=(6,3), sharex=True, sharey=True)\n",
    "ax[0].hexbin(permafrost_ng['relief'],permafrost_ng['DD'], \n",
    "             gridsize=(75,20), \n",
    "             mincnt=5)\n",
    "ax[1].hexbin(nonpermafrost_ng['relief'],nonpermafrost_ng['DD'],\n",
    "             gridsize=(75,20), \n",
    "                mincnt=5)\n",
    "ax[0].set_xlim(0,1500)\n",
    "ax[0].set_ylim(0.05,0.20)"
   ]
  },
  {
   "cell_type": "code",
   "execution_count": null,
   "metadata": {},
   "outputs": [],
   "source": [
    "fig, ax = plt.subplots(1,2, figsize=(6,3), sharex=True, sharey=True)\n",
    "ax[0].hexbin(permafrost_ng['relief'],permafrost_ng['DD'], gridsize=(500,20), mincnt=5)\n",
    "ax[1].hexbin(nonpermafrost_ng['relief'],nonpermafrost_ng['DD'], gridsize=(500,20), mincnt=5)\n",
    "ax[0].set_xlim(0,150)\n",
    "ax[0].set_ylim(0.05,0.20)"
   ]
  },
  {
   "attachments": {},
   "cell_type": "markdown",
   "metadata": {},
   "source": [
    "enjoy this easter egg that might be a future paper or something"
   ]
  }
 ],
 "metadata": {
  "kernelspec": {
   "display_name": "gee",
   "language": "python",
   "name": "python3"
  },
  "language_info": {
   "codemirror_mode": {
    "name": "ipython",
    "version": 3
   },
   "file_extension": ".py",
   "mimetype": "text/x-python",
   "name": "python",
   "nbconvert_exporter": "python",
   "pygments_lexer": "ipython3",
   "version": "3.9.13"
  },
  "orig_nbformat": 4
 },
 "nbformat": 4,
 "nbformat_minor": 2
}
